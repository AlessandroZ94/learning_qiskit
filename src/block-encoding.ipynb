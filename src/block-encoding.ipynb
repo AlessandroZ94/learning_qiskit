{
 "cells": [
  {
   "cell_type": "markdown",
   "metadata": {},
   "source": [
    "Block encoding is a technique to encode a non-unitary matrix A on a quantum circuit.\n",
    "In order to that a larger matrix $U_A$ is employed.\n",
    "$$ U_A = \n",
    "\\begin{bmatrix}\n",
    "A & * \\\\\n",
    "* & *\n",
    "\\end{bmatrix}\n",
    "$$\n",
    "\n",
    "Here we want to encode the nonunitary matrix $ A =\\begin{bmatrix}\n",
    "1/2 & 1/4 \\\\\n",
    "1/4 & 1/2\n",
    "\\end{bmatrix} $ and perform the operation $ v = Ax $.\n",
    "\\\n",
    "If the vector x is $ x = [0, 1]^T $ then $ v = [1/4, 1/2] $\n",
    "The resulting vector has the coeffients in squared form: $v_{0}^2=\\frac{1}{16} , v_{1}^2=\\frac{1}{4}$\n",
    "With the following ratio : $v_1^2/v_0^2=4$\n",
    "\n",
    "Due to block encoding $A$ will be encoded as $A/s$ where $s=2$ so in the final result we will get\n",
    "$ w=1/s \\cdot v = 1/s \\cdot Ax=[1/8, 1/4] $ but the ratio of the squared coeffients will always be 4."
   ]
  },
  {
   "cell_type": "code",
   "execution_count": 1,
   "metadata": {},
   "outputs": [
    {
     "data": {
      "image/png": "[encoded data removed]",
      "text/plain": [
       "<Figure size 948.687x367.889 with 1 Axes>"
      ]
     },
     "execution_count": 1,
     "metadata": {},
     "output_type": "execute_result"
    }
   ],
   "source": [
    "# Imports\n",
    "from qiskit.compiler import transpile\n",
    "from qiskit import QuantumCircuit, ClassicalRegister, QuantumRegister\n",
    "from qiskit_aer import AerSimulator\n",
    "import numpy as np\n",
    "\n",
    "\n",
    "# print(A*A)\n",
    "# print(A[0,0])\n",
    "alpha_1 = 1/2 # 0<alpha<1\n",
    "alpha_2 = 1/4 # 0<alpha<1\n",
    "phi_1 = np.arccos(alpha_1)+np.arccos(alpha_2)\n",
    "phi_2 = np.arccos(alpha_1)-np.arccos(alpha_2)\n",
    "A = np.matrix([[alpha_1, alpha_2], [alpha_2, alpha_1]])\n",
    "\n",
    "# Create the various registers needed\n",
    "input = QuantumRegister(1, name='j')\n",
    "ancilla = QuantumRegister(2, name='ancilla')\n",
    "measurement = ClassicalRegister(3, name='c')\n",
    "\n",
    "\n",
    "\n",
    "# Create an empty circuit with the specified registers\n",
    "circuit = QuantumCircuit(ancilla, input, measurement)\n",
    "\n",
    "\n",
    "vector = [0,1] # Note: this vector is already normalized\n",
    "initial_state = vector/np.linalg.norm(vector)\n",
    "circuit.initialize(initial_state, 2)  \n",
    "\n",
    "circuit.barrier()\n",
    "circuit.h(1)\n",
    "\n",
    "circuit.draw('mpl')\n",
    "circuit.ry(phi_1, 0)\n",
    "circuit.cx(1,0)\n",
    "circuit.ry(phi_2, 0)\n",
    "circuit.cx(1,0)\n",
    "circuit.cx(1,2)\n",
    "circuit.h(1)\n",
    "circuit.barrier()\n",
    "\n",
    "circuit.draw('mpl')"
   ]
  },
  {
   "cell_type": "code",
   "execution_count": 2,
   "metadata": {},
   "outputs": [
    {
     "data": {
      "text/latex": [
       "$$\\frac{1}{8} |000\\rangle+0.4841229183 |001\\rangle- \\frac{1}{8} |010\\rangle-0.4841229183 |011\\rangle+\\frac{1}{4} |100\\rangle+\\frac{\\sqrt{3}}{4} |101\\rangle+\\frac{1}{4} |110\\rangle+\\frac{\\sqrt{3}}{4} |111\\rangle$$"
      ],
      "text/plain": [
       "<IPython.core.display.Latex object>"
      ]
     },
     "execution_count": 2,
     "metadata": {},
     "output_type": "execute_result"
    }
   ],
   "source": [
    "from qiskit.quantum_info import Statevector\n",
    "#### Optional part ####\n",
    "# Set the initial state of the simulator to the ground state using from_int\n",
    "# and check the results\n",
    "state = Statevector.from_int(0, 2**3)\n",
    "# Evolve the state by the quantum circuit\n",
    "state = state.evolve(circuit)\n",
    "#draw using latex\n",
    "state.draw('latex')"
   ]
  },
  {
   "cell_type": "code",
   "execution_count": 3,
   "metadata": {},
   "outputs": [
    {
     "name": "stdout",
     "output_type": "stream",
     "text": [
      "3.896291640477687\n"
     ]
    }
   ],
   "source": [
    "circuit.measure(0,0)  # ancilla 0\n",
    "circuit.measure(1, 1) # ancilla 1\n",
    "circuit.measure(2, 2) # qubit where the vector of interest is encoded\n",
    "\n",
    "backend = AerSimulator() # Quantum circuit simulator backend\n",
    "\n",
    "# Circuit transpilation to QASM instructions supported by the backend\n",
    "qc_compiled = transpile(circuit, backend)\n",
    "\n",
    "# Execute the compiled circuit on the qasm simulator.\n",
    "shots = 100000\n",
    "job_sim = backend.run(qc_compiled, shots=shots)\n",
    "\n",
    "# Grab the results from the job.\n",
    "result_sim = job_sim.result()\n",
    "counts = result_sim.get_counts(qc_compiled)\n",
    "\n",
    "# only if ancilla 0 and ancilla 1 are both 0 we get Ax on the qubit\n",
    "\n",
    "# Note: in this circuit there are three qubits\n",
    "# q_0 = ancilla 0\n",
    "# q_1 = ancilla 1\n",
    "# q_2 = j\n",
    "# That are ordered like this in the results: ['q_2 q_1 q_0']\n",
    "# So q_2 is the Most Significant \"bit\" and q_0 is the Least Significant \"bit\"\n",
    "# This is the standard convention in qiskit.\n",
    "x_0 = counts['000']\n",
    "x_1 = counts['100']\n",
    "\n",
    "# We get a result which is close to 4\n",
    "print(x_1/x_0)"
   ]
  }
 ],
 "metadata": {
  "kernelspec": {
   "display_name": ".venv",
   "language": "python",
   "name": "python3"
  },
  "language_info": {
   "codemirror_mode": {
    "name": "ipython",
    "version": 3
   },
   "file_extension": ".py",
   "mimetype": "text/x-python",
   "name": "python",
   "nbconvert_exporter": "python",
   "pygments_lexer": "ipython3",
   "version": "3.10.12"
  }
 },
 "nbformat": 4,
 "nbformat_minor": 2
}
