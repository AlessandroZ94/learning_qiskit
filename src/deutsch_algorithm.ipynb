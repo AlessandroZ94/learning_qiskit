{
  "cells": [
    {
      "cell_type": "code",
      "execution_count": 1,
      "metadata": {
        "colab": {
          "background_save": true
        },
        "id": "9sVed9nqEvCA",
        "outputId": "171f2734-7785-4efb-a146-4568d38da3d0"
      },
      "outputs": [
        {
          "data": {
            "image/png": "[encoded data removed]",
            "text/plain": [
              "<Figure size 705.35x284.278 with 1 Axes>"
            ]
          },
          "execution_count": 1,
          "metadata": {},
          "output_type": "execute_result"
        }
      ],
      "source": [
        "# Deutsch Algorithm\n",
        "# It's a quantum algorithm for demonstrating the capabilities of quantum computers \n",
        "# that achieves advantage over classical algorithms. In this simple example\n",
        "# it is used to understand if an oracle (basically a black box implementing a fucntion)\n",
        "# has either odd or even parity\n",
        "\n",
        "from qiskit import QuantumRegister, ClassicalRegister, QuantumCircuit\n",
        "from numpy import pi\n",
        "\n",
        "qreg_q = QuantumRegister(2, 'q')\n",
        "creg_c = ClassicalRegister(1, 'c')\n",
        "circuit = QuantumCircuit(qreg_q, creg_c)\n",
        "\n",
        "# q[0] is the first and only qubit\n",
        "# q[1] is the ancilla\n",
        "# Note that all qubits are iniziatlized with |0> state in qiskit\n",
        "\n",
        "circuit.h(qreg_q[0])\n",
        "circuit.x(qreg_q[1])\n",
        "circuit.h(qreg_q[1])\n",
        "\n",
        "# now the first qubit is in state |+>\n",
        "# the ancilla bit is the state |->\n",
        "\n",
        "# the three following gates represent the oracle\n",
        "# here the oracle has even parity f(0)=1 and f(1)=1\n",
        "circuit.cx(qreg_q[0], qreg_q[1])\n",
        "circuit.x(qreg_q[1])\n",
        "circuit.cx(qreg_q[0], qreg_q[1])\n",
        "\n",
        "\n",
        "circuit.h(qreg_q[0])\n",
        "circuit.measure(qreg_q[0], creg_c[0])\n",
        "circuit.draw('mpl')"
      ]
    },
    {
      "cell_type": "code",
      "execution_count": 2,
      "metadata": {
        "colab": {
          "background_save": true
        },
        "id": "Cx7rjDZIFCQM",
        "outputId": "a8389993-fa2b-4815-ca50-04b43d22301e"
      },
      "outputs": [
        {
          "name": "stdout",
          "output_type": "stream",
          "text": [
            "{'0': 64}\n"
          ]
        }
      ],
      "source": [
        "# Adding the transpiler to reduce the circuit to QASM instructions\n",
        "# supported by the backend\n",
        "from qiskit import transpile\n",
        "# Use AerSimulator\n",
        "from qiskit_aer import AerSimulator\n",
        "backend = AerSimulator()\n",
        "\n",
        "# First we have to transpile the quantum circuit\n",
        "# to the low-level QASM instructions used by the\n",
        "# backend\n",
        "qc_compiled = transpile(circuit, backend)\n",
        "\n",
        "# Execute the circuit on the qasm simulator.\n",
        "# We've set the number of repeats of the circuit\n",
        "# to be 64, because in this case since we use a perfect noiseless \n",
        "# simulator we just get always the correcr result\n",
        "job_sim = backend.run(qc_compiled, shots=64)\n",
        "# Grab the results from the job.\n",
        "result_sim = job_sim.result()\n",
        "counts = result_sim.get_counts(qc_compiled)\n",
        "print(counts)"
      ]
    },
    {
      "cell_type": "code",
      "execution_count": 3,
      "metadata": {
        "colab": {
          "background_save": true
        },
        "id": "YpghiF1EF1UC",
        "outputId": "91c94825-ec98-40bd-972b-d1d59ebd9acf"
      },
      "outputs": [
        {
          "data": {
            "image/png": "[encoded data removed]",
            "text/plain": [
              "<Figure size 200x500 with 1 Axes>"
            ]
          },
          "execution_count": 3,
          "metadata": {},
          "output_type": "execute_result"
        }
      ],
      "source": [
        "from qiskit.visualization import plot_histogram\n",
        "plot_histogram(counts, figsize=(2,5))"
      ]
    }
  ],
  "metadata": {
    "colab": {
      "provenance": []
    },
    "kernelspec": {
      "display_name": "Python 3",
      "name": "python3"
    },
    "language_info": {
      "codemirror_mode": {
        "name": "ipython",
        "version": 3
      },
      "file_extension": ".py",
      "mimetype": "text/x-python",
      "name": "python",
      "nbconvert_exporter": "python",
      "pygments_lexer": "ipython3",
      "version": "3.10.12"
    }
  },
  "nbformat": 4,
  "nbformat_minor": 0
}
