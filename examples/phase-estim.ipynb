{
 "cells": [
  {
   "cell_type": "code",
   "execution_count": 1,
   "metadata": {},
   "outputs": [
    {
     "data": {
      "image/png": "[encoded data removed]",
      "text/plain": [
       "<Figure size 788.961x284.278 with 1 Axes>"
      ]
     },
     "metadata": {},
     "output_type": "display_data"
    }
   ],
   "source": [
    "from math import pi, cos, sin, acos, sqrt\n",
    "from qiskit import QuantumCircuit\n",
    "\n",
    "theta = 0.7  # Can be changed to any value between 0 and 1\n",
    "\n",
    "qc = QuantumCircuit(2, 1)\n",
    "\n",
    "# Prepare eigenvector, which is the |1> state\n",
    "\n",
    "qc.x(1)\n",
    "qc.barrier()\n",
    "\n",
    "# Implement the estimation procedure\n",
    "qc.h(0)\n",
    "qc.cp(2 * pi * theta, 0, 1)\n",
    "qc.h(0)\n",
    "qc.barrier()\n",
    "\n",
    "# Perform the final measurement\n",
    "qc.measure(0, 0)\n",
    "\n",
    "# Draw the circuit\n",
    "display(qc.draw('mpl'))"
   ]
  },
  {
   "cell_type": "code",
   "execution_count": 2,
   "metadata": {},
   "outputs": [
    {
     "name": "stderr",
     "output_type": "stream",
     "text": [
      "/tmp/ipykernel_9220/3657852451.py:3: DeprecationWarning: The class ``qiskit.primitives.sampler.Sampler`` is deprecated as of qiskit 1.2. It will be removed no earlier than 3 months after the release date. All implementations of the `BaseSamplerV1` interface have been deprecated in favor of their V2 counterparts. The V2 alternative for the `Sampler` class is `StatevectorSampler`.\n",
      "  results = Sampler().run(qc).result().quasi_dists[0]\n"
     ]
    },
    {
     "data": {
      "text/plain": [
       "{0: np.float64(0.345491502812526), 1: np.float64(0.654508497187474)}"
      ]
     },
     "metadata": {},
     "output_type": "display_data"
    },
    {
     "name": "stdout",
     "output_type": "stream",
     "text": [
      "Theta measured: \n",
      "0.7\n",
      "Expected results: \n"
     ]
    },
    {
     "data": {
      "text/plain": [
       "{0: 0.34549150281252616, 1: 0.6545084971874737}"
      ]
     },
     "metadata": {},
     "output_type": "display_data"
    }
   ],
   "source": [
    "from qiskit.primitives import Sampler\n",
    "\n",
    "results = Sampler().run(qc).result().quasi_dists[0]\n",
    "k = results[0]\n",
    "theta_meas = acos(-sqrt(k))/pi\n",
    "display(results)\n",
    "\n",
    "print(\"Theta measured: \")\n",
    "print(theta_meas)\n",
    "\n",
    "\n",
    "print(\"Expected results: \")\n",
    "display({   # Calculate predicted results\n",
    "    0: cos(pi * theta) ** 2,\n",
    "    1: sin(pi * theta) ** 2\n",
    "})"
   ]
  }
 ],
 "metadata": {
  "kernelspec": {
   "display_name": "Python 3",
   "language": "python",
   "name": "python3"
  },
  "language_info": {
   "codemirror_mode": {
    "name": "ipython",
    "version": 3
   },
   "file_extension": ".py",
   "mimetype": "text/x-python",
   "name": "python",
   "nbconvert_exporter": "python",
   "pygments_lexer": "ipython3",
   "version": "3.10.12"
  }
 },
 "nbformat": 4,
 "nbformat_minor": 2
}
