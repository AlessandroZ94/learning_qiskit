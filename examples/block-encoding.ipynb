{
 "cells": [
  {
   "cell_type": "code",
   "execution_count": 183,
   "metadata": {},
   "outputs": [
    {
     "data": {
      "image/png": "[encoded data removed]",
      "text/plain": [
       "<Figure size 865.076x367.889 with 1 Axes>"
      ]
     },
     "execution_count": 183,
     "metadata": {},
     "output_type": "execute_result"
    }
   ],
   "source": [
    "\n",
    "# We want to encode the nonunitary matrix A =[1/2, 1/4; 1/4, 1/2]\n",
    "# if x=[1/2,1/4] then v=Ax=[1/4+1/16=5/16, 1/4] v_0^2=25/16^2 v_1^2=1/16 v_1^2/v_0^2=16/25=0.64\n",
    "\n",
    "# Imports for Qiskit\n",
    "from qiskit.compiler import transpile\n",
    "from qiskit import QuantumCircuit, ClassicalRegister, QuantumRegister\n",
    "from qiskit.circuit.library.standard_gates import RYGate\n",
    "from qiskit.visualization import plot_histogram\n",
    "from qiskit.circuit.library import QFT\n",
    "# various imports\n",
    "import numpy as np\n",
    "from matplotlib import pyplot as plt\n",
    "\n",
    "from qiskit_aer import AerSimulator\n",
    "\n",
    "\n",
    "# print(A*A)\n",
    "# print(A[0,0])\n",
    "alpha_1 = 1/2 # 0<alpha<1\n",
    "alpha_2 = 1/4 # 0<alpha<1\n",
    "phi_1 = np.arccos(alpha_1)+np.arccos(alpha_2)\n",
    "phi_2 = np.arccos(alpha_1)-np.arccos(alpha_2)\n",
    "A = np.matrix([[alpha_1, alpha_2], [alpha_2, alpha_1]])\n",
    "\n",
    "# Create the various registers needed\n",
    "input = QuantumRegister(1, name='j')\n",
    "ancilla = QuantumRegister(2, name='ancilla')\n",
    "measurement = ClassicalRegister(3, name='c')\n",
    "\n",
    "\n",
    "\n",
    "# Create an empty circuit with the specified registers\n",
    "circuit = QuantumCircuit(ancilla, input, measurement)\n",
    "\n",
    "\n",
    "vector = [1/2,1/4] #this vector is already normalized\n",
    "initial_state = vector/np.linalg.norm(vector)\n",
    "circuit.initialize(initial_state, 2)  \n",
    "\n",
    "circuit.h(1)\n",
    "\n",
    "circuit.draw('mpl')\n",
    "circuit.ry(phi_1, 0)\n",
    "circuit.cx(1,0)\n",
    "circuit.ry(phi_2, 0)\n",
    "circuit.cx(1,0)\n",
    "circuit.cx(1,2)\n",
    "circuit.h(1)\n",
    "circuit.barrier()\n",
    "circuit.measure_all\n",
    "#circuit.measure(0,0)\n",
    "#circuit.measure(1, 1)\n",
    "#circuit.measure(2, 2)\n",
    "\n",
    "circuit.draw('mpl')\n",
    "\n",
    "\n",
    "\n"
   ]
  },
  {
   "cell_type": "code",
   "execution_count": 184,
   "metadata": {},
   "outputs": [
    {
     "data": {
      "text/latex": [
       "$$0.2795084972 |000\\rangle+0.6038046856 |001\\rangle+0.1677050983 |010\\rangle+0.1707919837 |011\\rangle+\\frac{\\sqrt{5}}{10} |100\\rangle+0.6266618692 |101\\rangle-0.2393635346 |111\\rangle$$"
      ],
      "text/plain": [
       "<IPython.core.display.Latex object>"
      ]
     },
     "execution_count": 184,
     "metadata": {},
     "output_type": "execute_result"
    }
   ],
   "source": [
    "from qiskit.quantum_info import Statevector\n",
    "# Set the initial state of the simulator to the ground state using from_int\n",
    "\n",
    "state = Statevector.from_int(0, 2**3)\n",
    "# Evolve the state by the quantum circuit\n",
    "state = state.evolve(circuit)\n",
    "#draw using latex\n",
    "state.draw('latex')"
   ]
  },
  {
   "cell_type": "code",
   "execution_count": 185,
   "metadata": {},
   "outputs": [
    {
     "name": "stdout",
     "output_type": "stream",
     "text": [
      "0.6483023702754644\n"
     ]
    }
   ],
   "source": [
    "circuit.measure(0,0) #ancilla0\n",
    "circuit.measure(1, 1) #ancilla1\n",
    "circuit.measure(2, 2) #qubit\n",
    "backend = AerSimulator()\n",
    "# First we have to transpile the quantum circuit\n",
    "# to the low-level QASM instructions used by the\n",
    "# backend\n",
    "qc_compiled = transpile(circuit, backend)\n",
    "# Execute the circuit on the qasm simulator.\n",
    "job_sim = backend.run(qc_compiled, shots=20000)\n",
    "\n",
    "# Grab the results from the job.\n",
    "result_sim = job_sim.result()\n",
    "counts = result_sim.get_counts(qc_compiled)\n",
    "\n",
    "# only if ancilla0 and ancilla1 are 0 we get A*x\n",
    "x_0 = counts['000']\n",
    "x_1 = counts['100']\n",
    "\n",
    "print(x_1/x_0)"
   ]
  }
 ],
 "metadata": {
  "kernelspec": {
   "display_name": ".venv",
   "language": "python",
   "name": "python3"
  },
  "language_info": {
   "codemirror_mode": {
    "name": "ipython",
    "version": 3
   },
   "file_extension": ".py",
   "mimetype": "text/x-python",
   "name": "python",
   "nbconvert_exporter": "python",
   "pygments_lexer": "ipython3",
   "version": "3.10.12"
  }
 },
 "nbformat": 4,
 "nbformat_minor": 2
}
